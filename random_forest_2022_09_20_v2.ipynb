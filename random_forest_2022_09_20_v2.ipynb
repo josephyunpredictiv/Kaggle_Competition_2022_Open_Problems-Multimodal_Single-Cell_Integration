{
 "cells": [
  {
   "cell_type": "code",
   "execution_count": 1,
   "id": "991cb6fa",
   "metadata": {},
   "outputs": [],
   "source": [
    "import pandas as pd\n",
    "import sklearn\n",
    "from sklearn.model_selection import train_test_split\n",
    "from sklearn.ensemble import RandomForestRegressor\n",
    "import smtplib"
   ]
  },
  {
   "cell_type": "code",
   "execution_count": null,
   "id": "993a69bf",
   "metadata": {},
   "outputs": [],
   "source": [
    "#sending email command python\n",
    "#editing for some parameters needed before running\n",
    "conn=smtplib.SMTP('smtp.gmail.com', 587)\n",
    "conn.ehlo()\n",
    "conn.starttls()\n",
    "conn.login('jyun1223334444@gmail.com', \"ztszlgayszdmpbhe\")\n",
    "conn.sendmail('jyun1223334444@gmail.com', 'example@example.com', 'content goes here')"
   ]
  },
  {
   "cell_type": "code",
   "execution_count": null,
   "id": "ff62f62e",
   "metadata": {},
   "outputs": [],
   "source": [
    "#h5 file to csv\n",
    "with pd.HDFStore(\"train_cite_inputs.h5\", \"r\") as train:\n",
    "    train_df=train.get(\"train_cite_inputs\")\n",
    "    train_df_short=train_df.head(1000)\n",
    "#normal data to csv\n",
    "train_df.to_csv('train_cite_inputs.csv')\n",
    "#shortened data to csv\n",
    "train_df_short.to_csv('short_train_cite_inputs.csv')\n",
    "\n",
    "with pd.HDFStore(\"train_cite_targets.h5\", \"r\") as train:\n",
    "    train_df=train.get(\"train_cite_targets\")\n",
    "    train_df_short=train_df.head(1000)\n",
    "#normal data to csv\n",
    "train_df.to_csv('train_cite_targets.csv')\n",
    "#shortened data to csv\n",
    "train_df_short.to_csv('short_train_cite_targets.csv')"
   ]
  },
  {
   "cell_type": "code",
   "execution_count": null,
   "id": "3e495e50",
   "metadata": {},
   "outputs": [],
   "source": [
    "#read in whole dataset\n",
    "df_inputs = pd.read_csv('train_cite_inputs.csv')\n",
    "df_targets = pd.read_csv('train_cite_targets.csv')\n",
    "#read in short dataset\n",
    "df_inputs_short = pd.read_csv('short_train_cite_inputs.csv')\n",
    "df_targets_short = pd.read_csv('short_train_cite_targets.csv')"
   ]
  },
  {
   "cell_type": "code",
   "execution_count": null,
   "id": "a3bbbe95",
   "metadata": {},
   "outputs": [],
   "source": [
    "#delete unnessesary columns\n",
    "del df_inputs['cell_id']\n",
    "del df_targets['cell_id']\n",
    "\n",
    "del df_inputs_short['cell_id']\n",
    "del df_targets_short['cell_id']"
   ]
  },
  {
   "cell_type": "code",
   "execution_count": null,
   "id": "3d29fb83",
   "metadata": {},
   "outputs": [],
   "source": [
    "#one random forest\n",
    "X_train, X_test, y_train, y_test = train_test_split(df_inputs_short, df_targets_short['CD86'], test_size=0.2, random_state=0)\n",
    "regressor=RandomForestRegressor(n_estimators = 100, max_depth=3)\n",
    "regressor.fit(X_train, y_train)\n",
    "#scoring for one random forest\n",
    "y_hat=regressor.predict(X_test)\n",
    "score=regressor.score(X_test, y_test)\n",
    "print(score)"
   ]
  },
  {
   "cell_type": "code",
   "execution_count": null,
   "id": "618cca7e",
   "metadata": {},
   "outputs": [],
   "source": [
    "#Run random forest for all columns\n",
    "#Fix df_inputs to short_df_inputs etc. if you would want to run it on the short dataset\n",
    "#Define list and dictionary\n",
    "protein_list=list(df_targets.columns)\n",
    "protein_model_dictionary = {}\n",
    "#for loop to run model per column\n",
    "for i in range(len(df_targets.columns)):\n",
    "    protein_name=protein_list[i]\n",
    "    #training data\n",
    "    X_train, X_test, y_train, y_test = train_test_split(df_inputs, df_targets[protein_name], test_size=0.2, random_state=0)\n",
    "    regressor=RandomForestRegressor(n_estimators=10, max_depth=5, random_state=0)\n",
    "    regressor.fit(X_train, y_train, sample_weight=None)\n",
    "    #getting score of model\n",
    "    y_hat=regressor.predict(X_test)\n",
    "    score=regressor.score(X_test, y_test)\n",
    "    #storing in dictionary [keys:value] = [protein name:model]\n",
    "    protein_model_dictionary[protein_name] = regressor\n",
    "    print(i, ',', protein_name, ',', score)"
   ]
  }
 ],
 "metadata": {
  "kernelspec": {
   "display_name": "Python 3 (ipykernel)",
   "language": "python",
   "name": "python3"
  },
  "language_info": {
   "codemirror_mode": {
    "name": "ipython",
    "version": 3
   },
   "file_extension": ".py",
   "mimetype": "text/x-python",
   "name": "python",
   "nbconvert_exporter": "python",
   "pygments_lexer": "ipython3",
   "version": "3.9.12"
  }
 },
 "nbformat": 4,
 "nbformat_minor": 5
}
